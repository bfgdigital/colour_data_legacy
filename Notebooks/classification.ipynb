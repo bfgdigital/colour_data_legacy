{
 "cells": [
  {
   "cell_type": "markdown",
   "metadata": {},
   "source": [
    "# Imports"
   ]
  },
  {
   "cell_type": "code",
   "execution_count": 1,
   "metadata": {},
   "outputs": [],
   "source": [
    "import pandas as pd\n",
    "import numpy as np\n",
    "import scipy as sp\n",
    "\n",
    "from sklearn.preprocessing import RobustScaler, MinMaxScaler, StandardScaler, LabelEncoder \n",
    "from sklearn.model_selection import train_test_split, cross_val_score\n",
    "\n",
    "from sklearn.linear_model import LogisticRegression, LinearRegression\n",
    "\n",
    "from sklearn import metrics\n",
    "from sklearn.metrics import accuracy_score, classification_report\n",
    "\n",
    "import matplotlib.pyplot as plt\n",
    "import seaborn as sns\n",
    "\n",
    "np.random.seed(42) # this is how to set a random seed."
   ]
  },
  {
   "cell_type": "markdown",
   "metadata": {},
   "source": [
    "#### Display options"
   ]
  },
  {
   "cell_type": "code",
   "execution_count": 2,
   "metadata": {},
   "outputs": [],
   "source": [
    "%matplotlib inline\n",
    "%config InlineBackend.figure_format = 'retina'\n",
    "\n",
    "# Jupytper Config\n",
    "%config Completer.use_jedi = False\n",
    "%config IPCompleter.greedy=True\n",
    "pd.set_option('display.max_columns', None)\n"
   ]
  },
  {
   "cell_type": "markdown",
   "metadata": {},
   "source": [
    "## Load Exernal Files"
   ]
  },
  {
   "cell_type": "code",
   "execution_count": 3,
   "metadata": {},
   "outputs": [],
   "source": [
    "# Data file produced by tests.\n",
    "uf = pd.read_csv('./CSV/colour_data_clustered.csv')"
   ]
  },
  {
   "cell_type": "code",
   "execution_count": 4,
   "metadata": {},
   "outputs": [
    {
     "name": "stdout",
     "output_type": "stream",
     "text": [
      "Unique Cluster Classifications: 4\n"
     ]
    },
    {
     "data": {
      "text/html": [
       "<div>\n",
       "<style scoped>\n",
       "    .dataframe tbody tr th:only-of-type {\n",
       "        vertical-align: middle;\n",
       "    }\n",
       "\n",
       "    .dataframe tbody tr th {\n",
       "        vertical-align: top;\n",
       "    }\n",
       "\n",
       "    .dataframe thead th {\n",
       "        text-align: right;\n",
       "    }\n",
       "</style>\n",
       "<table border=\"1\" class=\"dataframe\">\n",
       "  <thead>\n",
       "    <tr style=\"text-align: right;\">\n",
       "      <th></th>\n",
       "      <th>user</th>\n",
       "      <th>correct</th>\n",
       "      <th>recorded_result</th>\n",
       "      <th>mask_image</th>\n",
       "      <th>cb_type1</th>\n",
       "      <th>cb_type2</th>\n",
       "      <th>ncb</th>\n",
       "      <th>datetime</th>\n",
       "      <th>random_spread</th>\n",
       "      <th>pallet_used</th>\n",
       "      <th>pallet_values</th>\n",
       "      <th>ishihara_list</th>\n",
       "      <th>COLORS_ON</th>\n",
       "      <th>COLORS_OFF</th>\n",
       "      <th>cluster_classification</th>\n",
       "    </tr>\n",
       "  </thead>\n",
       "  <tbody>\n",
       "    <tr>\n",
       "      <th>0</th>\n",
       "      <td>unknown_1</td>\n",
       "      <td>1</td>\n",
       "      <td>5</td>\n",
       "      <td>5</td>\n",
       "      <td>0</td>\n",
       "      <td>0</td>\n",
       "      <td>1</td>\n",
       "      <td>16/6/20 11:22</td>\n",
       "      <td>10</td>\n",
       "      <td>bear</td>\n",
       "      <td>[#e26f39,#f6c458,#e09c3e,#e69e40,#ed7b3d,#f5be...</td>\n",
       "      <td>[(220,105,53),(239,192,86),(227,162,61),(222,1...</td>\n",
       "      <td>[(220,105,53),(239,192,86),(227,162,61),(222,1...</td>\n",
       "      <td>[(71,138,38),(92,73,38),(153,165,49),(221,221,...</td>\n",
       "      <td>0</td>\n",
       "    </tr>\n",
       "    <tr>\n",
       "      <th>1</th>\n",
       "      <td>unknown_1</td>\n",
       "      <td>1</td>\n",
       "      <td>C</td>\n",
       "      <td>C</td>\n",
       "      <td>0</td>\n",
       "      <td>0</td>\n",
       "      <td>1</td>\n",
       "      <td>16/6/20 11:20</td>\n",
       "      <td>10</td>\n",
       "      <td>bear</td>\n",
       "      <td>[#e26f39,#f6c458,#e09c3e,#e69e40,#ed7b3d,#f5be...</td>\n",
       "      <td>[(232,116,65),(247,198,95),(221,152,56),(220,1...</td>\n",
       "      <td>[(232,116,65),(247,198,95),(221,152,56),(220,1...</td>\n",
       "      <td>[(65,149,38),(99,72,41),(168,165,50),(223,211,...</td>\n",
       "      <td>0</td>\n",
       "    </tr>\n",
       "    <tr>\n",
       "      <th>2</th>\n",
       "      <td>unknown_1</td>\n",
       "      <td>1</td>\n",
       "      <td>D</td>\n",
       "      <td>D</td>\n",
       "      <td>0</td>\n",
       "      <td>0</td>\n",
       "      <td>1</td>\n",
       "      <td>16/6/20 11:30</td>\n",
       "      <td>10</td>\n",
       "      <td>bear</td>\n",
       "      <td>[#e26f39,#f6c458,#e09c3e,#e69e40,#ed7b3d,#f5be...</td>\n",
       "      <td>[(226,114,54),(253,186,87),(233,148,70),(236,1...</td>\n",
       "      <td>[(226,114,54),(253,186,87),(233,148,70),(236,1...</td>\n",
       "      <td>[(75,142,40),(96,64,34),(162,152,41),(224,219,...</td>\n",
       "      <td>0</td>\n",
       "    </tr>\n",
       "  </tbody>\n",
       "</table>\n",
       "</div>"
      ],
      "text/plain": [
       "        user  correct recorded_result mask_image  cb_type1  cb_type2  ncb  \\\n",
       "0  unknown_1        1               5          5         0         0    1   \n",
       "1  unknown_1        1               C          C         0         0    1   \n",
       "2  unknown_1        1               D          D         0         0    1   \n",
       "\n",
       "        datetime  random_spread pallet_used  \\\n",
       "0  16/6/20 11:22             10        bear   \n",
       "1  16/6/20 11:20             10        bear   \n",
       "2  16/6/20 11:30             10        bear   \n",
       "\n",
       "                                       pallet_values  \\\n",
       "0  [#e26f39,#f6c458,#e09c3e,#e69e40,#ed7b3d,#f5be...   \n",
       "1  [#e26f39,#f6c458,#e09c3e,#e69e40,#ed7b3d,#f5be...   \n",
       "2  [#e26f39,#f6c458,#e09c3e,#e69e40,#ed7b3d,#f5be...   \n",
       "\n",
       "                                       ishihara_list  \\\n",
       "0  [(220,105,53),(239,192,86),(227,162,61),(222,1...   \n",
       "1  [(232,116,65),(247,198,95),(221,152,56),(220,1...   \n",
       "2  [(226,114,54),(253,186,87),(233,148,70),(236,1...   \n",
       "\n",
       "                                           COLORS_ON  \\\n",
       "0  [(220,105,53),(239,192,86),(227,162,61),(222,1...   \n",
       "1  [(232,116,65),(247,198,95),(221,152,56),(220,1...   \n",
       "2  [(226,114,54),(253,186,87),(233,148,70),(236,1...   \n",
       "\n",
       "                                          COLORS_OFF  cluster_classification  \n",
       "0  [(71,138,38),(92,73,38),(153,165,49),(221,221,...                       0  \n",
       "1  [(65,149,38),(99,72,41),(168,165,50),(223,211,...                       0  \n",
       "2  [(75,142,40),(96,64,34),(162,152,41),(224,219,...                       0  "
      ]
     },
     "execution_count": 4,
     "metadata": {},
     "output_type": "execute_result"
    }
   ],
   "source": [
    "print(f\"Unique Cluster Classifications: {uf['cluster_classification'].nunique()}\")\n",
    "uf.head(3)"
   ]
  },
  {
   "cell_type": "markdown",
   "metadata": {},
   "source": [
    "### Categorical Feature Encoding"
   ]
  },
  {
   "cell_type": "code",
   "execution_count": 5,
   "metadata": {},
   "outputs": [
    {
     "data": {
      "text/plain": [
       "Index(['user', 'correct', 'recorded_result', 'mask_image', 'cb_type1',\n",
       "       'cb_type2', 'ncb', 'datetime', 'random_spread', 'pallet_used',\n",
       "       'pallet_values', 'ishihara_list', 'COLORS_ON', 'COLORS_OFF',\n",
       "       'cluster_classification'],\n",
       "      dtype='object')"
      ]
     },
     "execution_count": 5,
     "metadata": {},
     "output_type": "execute_result"
    }
   ],
   "source": [
    "uf.columns"
   ]
  },
  {
   "cell_type": "markdown",
   "metadata": {},
   "source": [
    "### Define Input vectors (X)"
   ]
  },
  {
   "cell_type": "code",
   "execution_count": 6,
   "metadata": {},
   "outputs": [
    {
     "data": {
      "text/html": [
       "<div>\n",
       "<style scoped>\n",
       "    .dataframe tbody tr th:only-of-type {\n",
       "        vertical-align: middle;\n",
       "    }\n",
       "\n",
       "    .dataframe tbody tr th {\n",
       "        vertical-align: top;\n",
       "    }\n",
       "\n",
       "    .dataframe thead th {\n",
       "        text-align: right;\n",
       "    }\n",
       "</style>\n",
       "<table border=\"1\" class=\"dataframe\">\n",
       "  <thead>\n",
       "    <tr style=\"text-align: right;\">\n",
       "      <th></th>\n",
       "      <th>correct</th>\n",
       "      <th>cb_type1</th>\n",
       "      <th>cb_type2</th>\n",
       "      <th>ncb</th>\n",
       "      <th>pallet__bear</th>\n",
       "      <th>pallet__bluey2</th>\n",
       "      <th>pallet__camo2</th>\n",
       "      <th>pallet__greys</th>\n",
       "      <th>pallet__inverse_ring</th>\n",
       "      <th>pallet__orn_grn</th>\n",
       "      <th>pallet__pinks</th>\n",
       "      <th>pallet__reversed_ring</th>\n",
       "      <th>pallet__ring</th>\n",
       "      <th>pallet__standard_1</th>\n",
       "      <th>pallet__standard_2</th>\n",
       "      <th>pallet__standard_3</th>\n",
       "    </tr>\n",
       "  </thead>\n",
       "  <tbody>\n",
       "    <tr>\n",
       "      <th>0</th>\n",
       "      <td>1</td>\n",
       "      <td>0</td>\n",
       "      <td>0</td>\n",
       "      <td>1</td>\n",
       "      <td>1</td>\n",
       "      <td>0</td>\n",
       "      <td>0</td>\n",
       "      <td>0</td>\n",
       "      <td>0</td>\n",
       "      <td>0</td>\n",
       "      <td>0</td>\n",
       "      <td>0</td>\n",
       "      <td>0</td>\n",
       "      <td>0</td>\n",
       "      <td>0</td>\n",
       "      <td>0</td>\n",
       "    </tr>\n",
       "    <tr>\n",
       "      <th>1</th>\n",
       "      <td>1</td>\n",
       "      <td>0</td>\n",
       "      <td>0</td>\n",
       "      <td>1</td>\n",
       "      <td>1</td>\n",
       "      <td>0</td>\n",
       "      <td>0</td>\n",
       "      <td>0</td>\n",
       "      <td>0</td>\n",
       "      <td>0</td>\n",
       "      <td>0</td>\n",
       "      <td>0</td>\n",
       "      <td>0</td>\n",
       "      <td>0</td>\n",
       "      <td>0</td>\n",
       "      <td>0</td>\n",
       "    </tr>\n",
       "    <tr>\n",
       "      <th>2</th>\n",
       "      <td>1</td>\n",
       "      <td>0</td>\n",
       "      <td>0</td>\n",
       "      <td>1</td>\n",
       "      <td>1</td>\n",
       "      <td>0</td>\n",
       "      <td>0</td>\n",
       "      <td>0</td>\n",
       "      <td>0</td>\n",
       "      <td>0</td>\n",
       "      <td>0</td>\n",
       "      <td>0</td>\n",
       "      <td>0</td>\n",
       "      <td>0</td>\n",
       "      <td>0</td>\n",
       "      <td>0</td>\n",
       "    </tr>\n",
       "    <tr>\n",
       "      <th>3</th>\n",
       "      <td>1</td>\n",
       "      <td>0</td>\n",
       "      <td>0</td>\n",
       "      <td>1</td>\n",
       "      <td>1</td>\n",
       "      <td>0</td>\n",
       "      <td>0</td>\n",
       "      <td>0</td>\n",
       "      <td>0</td>\n",
       "      <td>0</td>\n",
       "      <td>0</td>\n",
       "      <td>0</td>\n",
       "      <td>0</td>\n",
       "      <td>0</td>\n",
       "      <td>0</td>\n",
       "      <td>0</td>\n",
       "    </tr>\n",
       "    <tr>\n",
       "      <th>4</th>\n",
       "      <td>0</td>\n",
       "      <td>0</td>\n",
       "      <td>0</td>\n",
       "      <td>1</td>\n",
       "      <td>1</td>\n",
       "      <td>0</td>\n",
       "      <td>0</td>\n",
       "      <td>0</td>\n",
       "      <td>0</td>\n",
       "      <td>0</td>\n",
       "      <td>0</td>\n",
       "      <td>0</td>\n",
       "      <td>0</td>\n",
       "      <td>0</td>\n",
       "      <td>0</td>\n",
       "      <td>0</td>\n",
       "    </tr>\n",
       "    <tr>\n",
       "      <th>...</th>\n",
       "      <td>...</td>\n",
       "      <td>...</td>\n",
       "      <td>...</td>\n",
       "      <td>...</td>\n",
       "      <td>...</td>\n",
       "      <td>...</td>\n",
       "      <td>...</td>\n",
       "      <td>...</td>\n",
       "      <td>...</td>\n",
       "      <td>...</td>\n",
       "      <td>...</td>\n",
       "      <td>...</td>\n",
       "      <td>...</td>\n",
       "      <td>...</td>\n",
       "      <td>...</td>\n",
       "      <td>...</td>\n",
       "    </tr>\n",
       "    <tr>\n",
       "      <th>5816</th>\n",
       "      <td>1</td>\n",
       "      <td>0</td>\n",
       "      <td>1</td>\n",
       "      <td>1</td>\n",
       "      <td>0</td>\n",
       "      <td>0</td>\n",
       "      <td>0</td>\n",
       "      <td>0</td>\n",
       "      <td>0</td>\n",
       "      <td>0</td>\n",
       "      <td>0</td>\n",
       "      <td>0</td>\n",
       "      <td>0</td>\n",
       "      <td>0</td>\n",
       "      <td>0</td>\n",
       "      <td>1</td>\n",
       "    </tr>\n",
       "    <tr>\n",
       "      <th>5817</th>\n",
       "      <td>1</td>\n",
       "      <td>0</td>\n",
       "      <td>1</td>\n",
       "      <td>1</td>\n",
       "      <td>0</td>\n",
       "      <td>0</td>\n",
       "      <td>0</td>\n",
       "      <td>0</td>\n",
       "      <td>0</td>\n",
       "      <td>0</td>\n",
       "      <td>0</td>\n",
       "      <td>0</td>\n",
       "      <td>0</td>\n",
       "      <td>0</td>\n",
       "      <td>0</td>\n",
       "      <td>1</td>\n",
       "    </tr>\n",
       "    <tr>\n",
       "      <th>5818</th>\n",
       "      <td>1</td>\n",
       "      <td>0</td>\n",
       "      <td>1</td>\n",
       "      <td>1</td>\n",
       "      <td>0</td>\n",
       "      <td>0</td>\n",
       "      <td>0</td>\n",
       "      <td>0</td>\n",
       "      <td>0</td>\n",
       "      <td>0</td>\n",
       "      <td>0</td>\n",
       "      <td>0</td>\n",
       "      <td>0</td>\n",
       "      <td>0</td>\n",
       "      <td>0</td>\n",
       "      <td>1</td>\n",
       "    </tr>\n",
       "    <tr>\n",
       "      <th>5819</th>\n",
       "      <td>1</td>\n",
       "      <td>0</td>\n",
       "      <td>1</td>\n",
       "      <td>1</td>\n",
       "      <td>0</td>\n",
       "      <td>0</td>\n",
       "      <td>0</td>\n",
       "      <td>0</td>\n",
       "      <td>0</td>\n",
       "      <td>0</td>\n",
       "      <td>0</td>\n",
       "      <td>0</td>\n",
       "      <td>0</td>\n",
       "      <td>0</td>\n",
       "      <td>0</td>\n",
       "      <td>1</td>\n",
       "    </tr>\n",
       "    <tr>\n",
       "      <th>5820</th>\n",
       "      <td>1</td>\n",
       "      <td>0</td>\n",
       "      <td>1</td>\n",
       "      <td>1</td>\n",
       "      <td>0</td>\n",
       "      <td>0</td>\n",
       "      <td>0</td>\n",
       "      <td>0</td>\n",
       "      <td>0</td>\n",
       "      <td>0</td>\n",
       "      <td>0</td>\n",
       "      <td>0</td>\n",
       "      <td>0</td>\n",
       "      <td>0</td>\n",
       "      <td>0</td>\n",
       "      <td>1</td>\n",
       "    </tr>\n",
       "  </tbody>\n",
       "</table>\n",
       "<p>5821 rows × 16 columns</p>\n",
       "</div>"
      ],
      "text/plain": [
       "      correct  cb_type1  cb_type2  ncb  pallet__bear  pallet__bluey2  \\\n",
       "0           1         0         0    1             1               0   \n",
       "1           1         0         0    1             1               0   \n",
       "2           1         0         0    1             1               0   \n",
       "3           1         0         0    1             1               0   \n",
       "4           0         0         0    1             1               0   \n",
       "...       ...       ...       ...  ...           ...             ...   \n",
       "5816        1         0         1    1             0               0   \n",
       "5817        1         0         1    1             0               0   \n",
       "5818        1         0         1    1             0               0   \n",
       "5819        1         0         1    1             0               0   \n",
       "5820        1         0         1    1             0               0   \n",
       "\n",
       "      pallet__camo2  pallet__greys  pallet__inverse_ring  pallet__orn_grn  \\\n",
       "0                 0              0                     0                0   \n",
       "1                 0              0                     0                0   \n",
       "2                 0              0                     0                0   \n",
       "3                 0              0                     0                0   \n",
       "4                 0              0                     0                0   \n",
       "...             ...            ...                   ...              ...   \n",
       "5816              0              0                     0                0   \n",
       "5817              0              0                     0                0   \n",
       "5818              0              0                     0                0   \n",
       "5819              0              0                     0                0   \n",
       "5820              0              0                     0                0   \n",
       "\n",
       "      pallet__pinks  pallet__reversed_ring  pallet__ring  pallet__standard_1  \\\n",
       "0                 0                      0             0                   0   \n",
       "1                 0                      0             0                   0   \n",
       "2                 0                      0             0                   0   \n",
       "3                 0                      0             0                   0   \n",
       "4                 0                      0             0                   0   \n",
       "...             ...                    ...           ...                 ...   \n",
       "5816              0                      0             0                   0   \n",
       "5817              0                      0             0                   0   \n",
       "5818              0                      0             0                   0   \n",
       "5819              0                      0             0                   0   \n",
       "5820              0                      0             0                   0   \n",
       "\n",
       "      pallet__standard_2  pallet__standard_3  \n",
       "0                      0                   0  \n",
       "1                      0                   0  \n",
       "2                      0                   0  \n",
       "3                      0                   0  \n",
       "4                      0                   0  \n",
       "...                  ...                 ...  \n",
       "5816                   0                   1  \n",
       "5817                   0                   1  \n",
       "5818                   0                   1  \n",
       "5819                   0                   1  \n",
       "5820                   0                   1  \n",
       "\n",
       "[5821 rows x 16 columns]"
      ]
     },
     "execution_count": 6,
     "metadata": {},
     "output_type": "execute_result"
    }
   ],
   "source": [
    "# pallet used is the most important feature\n",
    "pallet_dummies = pd.get_dummies(uf['pallet_used'],prefix='pallet_')\n",
    "X = uf.drop(['user','recorded_result','mask_image','datetime','random_spread','pallet_values','pallet_used','ishihara_list','COLORS_ON','COLORS_OFF','cluster_classification'],axis=1)\n",
    "X = pd.concat([X,pallet_dummies],axis=1)\n",
    "X"
   ]
  },
  {
   "cell_type": "markdown",
   "metadata": {},
   "source": [
    "### Define target values (y)\n",
    "We have a categorical target, so we need to labelEncode"
   ]
  },
  {
   "cell_type": "markdown",
   "metadata": {},
   "source": [
    "## Establish a baseline\n",
    "Predicting that someone is not colourblind."
   ]
  },
  {
   "cell_type": "code",
   "execution_count": 7,
   "metadata": {},
   "outputs": [
    {
     "name": "stdout",
     "output_type": "stream",
     "text": [
      "Correct Answer Baseline:\n",
      "0    0.812232\n",
      "3    0.078681\n",
      "1    0.066140\n",
      "2    0.042948\n",
      "Name: cluster_classification, dtype: float64\n"
     ]
    }
   ],
   "source": [
    "baseline = uf['cluster_classification'].value_counts(normalize = True)\n",
    "print(\"Correct Answer Baseline:\")\n",
    "print(baseline)\n",
    "\n",
    "baseline = np.mean(uf['cluster_classification'] == 0)"
   ]
  },
  {
   "cell_type": "code",
   "execution_count": 8,
   "metadata": {},
   "outputs": [
    {
     "name": "stdout",
     "output_type": "stream",
     "text": [
      "Transformed (4,)/4 labels\n",
      "labels are [0 1 2 3]\n"
     ]
    },
    {
     "data": {
      "text/plain": [
       "0       0\n",
       "1       0\n",
       "2       0\n",
       "3       0\n",
       "4       0\n",
       "       ..\n",
       "5816    0\n",
       "5817    0\n",
       "5818    0\n",
       "5819    0\n",
       "5820    0\n",
       "Name: cluster_classification, Length: 5821, dtype: int64"
      ]
     },
     "execution_count": 8,
     "metadata": {},
     "output_type": "execute_result"
    }
   ],
   "source": [
    "y = uf['cluster_classification']\n",
    "\n",
    "le = LabelEncoder()\n",
    "le.fit_transform(y)\n",
    "\n",
    "print(f'Transformed {le.classes_.shape}/{uf.cluster_classification.nunique()} labels')\n",
    "print(f'labels are {le.classes_}')\n",
    "y"
   ]
  },
  {
   "cell_type": "code",
   "execution_count": 9,
   "metadata": {},
   "outputs": [],
   "source": [
    "# y.replace({0: '80%', 1: '.07%', 2: '.66%', 3: '.04%'})"
   ]
  },
  {
   "cell_type": "markdown",
   "metadata": {},
   "source": [
    "Check columns are equal legnth"
   ]
  },
  {
   "cell_type": "code",
   "execution_count": 10,
   "metadata": {},
   "outputs": [
    {
     "name": "stdout",
     "output_type": "stream",
     "text": [
      "We have 5821 y and 5821 X values\n"
     ]
    }
   ],
   "source": [
    "print(f'We have {len(y)} y and {len(X)} X values')"
   ]
  },
  {
   "cell_type": "markdown",
   "metadata": {},
   "source": [
    "## Scaling"
   ]
  },
  {
   "cell_type": "code",
   "execution_count": 11,
   "metadata": {},
   "outputs": [
    {
     "data": {
      "text/html": [
       "<div>\n",
       "<style scoped>\n",
       "    .dataframe tbody tr th:only-of-type {\n",
       "        vertical-align: middle;\n",
       "    }\n",
       "\n",
       "    .dataframe tbody tr th {\n",
       "        vertical-align: top;\n",
       "    }\n",
       "\n",
       "    .dataframe thead th {\n",
       "        text-align: right;\n",
       "    }\n",
       "</style>\n",
       "<table border=\"1\" class=\"dataframe\">\n",
       "  <thead>\n",
       "    <tr style=\"text-align: right;\">\n",
       "      <th></th>\n",
       "      <th>correct</th>\n",
       "      <th>cb_type1</th>\n",
       "      <th>cb_type2</th>\n",
       "      <th>ncb</th>\n",
       "      <th>pallet__bear</th>\n",
       "      <th>pallet__bluey2</th>\n",
       "      <th>pallet__camo2</th>\n",
       "      <th>pallet__greys</th>\n",
       "      <th>pallet__inverse_ring</th>\n",
       "      <th>pallet__orn_grn</th>\n",
       "      <th>pallet__pinks</th>\n",
       "      <th>pallet__reversed_ring</th>\n",
       "      <th>pallet__ring</th>\n",
       "      <th>pallet__standard_1</th>\n",
       "      <th>pallet__standard_2</th>\n",
       "      <th>pallet__standard_3</th>\n",
       "    </tr>\n",
       "  </thead>\n",
       "  <tbody>\n",
       "    <tr>\n",
       "      <th>0</th>\n",
       "      <td>1.0</td>\n",
       "      <td>0.0</td>\n",
       "      <td>0.0</td>\n",
       "      <td>1.0</td>\n",
       "      <td>1.0</td>\n",
       "      <td>0.0</td>\n",
       "      <td>0.0</td>\n",
       "      <td>0.0</td>\n",
       "      <td>0.0</td>\n",
       "      <td>0.0</td>\n",
       "      <td>0.0</td>\n",
       "      <td>0.0</td>\n",
       "      <td>0.0</td>\n",
       "      <td>0.0</td>\n",
       "      <td>0.0</td>\n",
       "      <td>0.0</td>\n",
       "    </tr>\n",
       "    <tr>\n",
       "      <th>1</th>\n",
       "      <td>1.0</td>\n",
       "      <td>0.0</td>\n",
       "      <td>0.0</td>\n",
       "      <td>1.0</td>\n",
       "      <td>1.0</td>\n",
       "      <td>0.0</td>\n",
       "      <td>0.0</td>\n",
       "      <td>0.0</td>\n",
       "      <td>0.0</td>\n",
       "      <td>0.0</td>\n",
       "      <td>0.0</td>\n",
       "      <td>0.0</td>\n",
       "      <td>0.0</td>\n",
       "      <td>0.0</td>\n",
       "      <td>0.0</td>\n",
       "      <td>0.0</td>\n",
       "    </tr>\n",
       "    <tr>\n",
       "      <th>2</th>\n",
       "      <td>1.0</td>\n",
       "      <td>0.0</td>\n",
       "      <td>0.0</td>\n",
       "      <td>1.0</td>\n",
       "      <td>1.0</td>\n",
       "      <td>0.0</td>\n",
       "      <td>0.0</td>\n",
       "      <td>0.0</td>\n",
       "      <td>0.0</td>\n",
       "      <td>0.0</td>\n",
       "      <td>0.0</td>\n",
       "      <td>0.0</td>\n",
       "      <td>0.0</td>\n",
       "      <td>0.0</td>\n",
       "      <td>0.0</td>\n",
       "      <td>0.0</td>\n",
       "    </tr>\n",
       "    <tr>\n",
       "      <th>3</th>\n",
       "      <td>1.0</td>\n",
       "      <td>0.0</td>\n",
       "      <td>0.0</td>\n",
       "      <td>1.0</td>\n",
       "      <td>1.0</td>\n",
       "      <td>0.0</td>\n",
       "      <td>0.0</td>\n",
       "      <td>0.0</td>\n",
       "      <td>0.0</td>\n",
       "      <td>0.0</td>\n",
       "      <td>0.0</td>\n",
       "      <td>0.0</td>\n",
       "      <td>0.0</td>\n",
       "      <td>0.0</td>\n",
       "      <td>0.0</td>\n",
       "      <td>0.0</td>\n",
       "    </tr>\n",
       "    <tr>\n",
       "      <th>4</th>\n",
       "      <td>0.0</td>\n",
       "      <td>0.0</td>\n",
       "      <td>0.0</td>\n",
       "      <td>1.0</td>\n",
       "      <td>1.0</td>\n",
       "      <td>0.0</td>\n",
       "      <td>0.0</td>\n",
       "      <td>0.0</td>\n",
       "      <td>0.0</td>\n",
       "      <td>0.0</td>\n",
       "      <td>0.0</td>\n",
       "      <td>0.0</td>\n",
       "      <td>0.0</td>\n",
       "      <td>0.0</td>\n",
       "      <td>0.0</td>\n",
       "      <td>0.0</td>\n",
       "    </tr>\n",
       "    <tr>\n",
       "      <th>...</th>\n",
       "      <td>...</td>\n",
       "      <td>...</td>\n",
       "      <td>...</td>\n",
       "      <td>...</td>\n",
       "      <td>...</td>\n",
       "      <td>...</td>\n",
       "      <td>...</td>\n",
       "      <td>...</td>\n",
       "      <td>...</td>\n",
       "      <td>...</td>\n",
       "      <td>...</td>\n",
       "      <td>...</td>\n",
       "      <td>...</td>\n",
       "      <td>...</td>\n",
       "      <td>...</td>\n",
       "      <td>...</td>\n",
       "    </tr>\n",
       "    <tr>\n",
       "      <th>5816</th>\n",
       "      <td>1.0</td>\n",
       "      <td>0.0</td>\n",
       "      <td>1.0</td>\n",
       "      <td>1.0</td>\n",
       "      <td>0.0</td>\n",
       "      <td>0.0</td>\n",
       "      <td>0.0</td>\n",
       "      <td>0.0</td>\n",
       "      <td>0.0</td>\n",
       "      <td>0.0</td>\n",
       "      <td>0.0</td>\n",
       "      <td>0.0</td>\n",
       "      <td>0.0</td>\n",
       "      <td>0.0</td>\n",
       "      <td>0.0</td>\n",
       "      <td>1.0</td>\n",
       "    </tr>\n",
       "    <tr>\n",
       "      <th>5817</th>\n",
       "      <td>1.0</td>\n",
       "      <td>0.0</td>\n",
       "      <td>1.0</td>\n",
       "      <td>1.0</td>\n",
       "      <td>0.0</td>\n",
       "      <td>0.0</td>\n",
       "      <td>0.0</td>\n",
       "      <td>0.0</td>\n",
       "      <td>0.0</td>\n",
       "      <td>0.0</td>\n",
       "      <td>0.0</td>\n",
       "      <td>0.0</td>\n",
       "      <td>0.0</td>\n",
       "      <td>0.0</td>\n",
       "      <td>0.0</td>\n",
       "      <td>1.0</td>\n",
       "    </tr>\n",
       "    <tr>\n",
       "      <th>5818</th>\n",
       "      <td>1.0</td>\n",
       "      <td>0.0</td>\n",
       "      <td>1.0</td>\n",
       "      <td>1.0</td>\n",
       "      <td>0.0</td>\n",
       "      <td>0.0</td>\n",
       "      <td>0.0</td>\n",
       "      <td>0.0</td>\n",
       "      <td>0.0</td>\n",
       "      <td>0.0</td>\n",
       "      <td>0.0</td>\n",
       "      <td>0.0</td>\n",
       "      <td>0.0</td>\n",
       "      <td>0.0</td>\n",
       "      <td>0.0</td>\n",
       "      <td>1.0</td>\n",
       "    </tr>\n",
       "    <tr>\n",
       "      <th>5819</th>\n",
       "      <td>1.0</td>\n",
       "      <td>0.0</td>\n",
       "      <td>1.0</td>\n",
       "      <td>1.0</td>\n",
       "      <td>0.0</td>\n",
       "      <td>0.0</td>\n",
       "      <td>0.0</td>\n",
       "      <td>0.0</td>\n",
       "      <td>0.0</td>\n",
       "      <td>0.0</td>\n",
       "      <td>0.0</td>\n",
       "      <td>0.0</td>\n",
       "      <td>0.0</td>\n",
       "      <td>0.0</td>\n",
       "      <td>0.0</td>\n",
       "      <td>1.0</td>\n",
       "    </tr>\n",
       "    <tr>\n",
       "      <th>5820</th>\n",
       "      <td>1.0</td>\n",
       "      <td>0.0</td>\n",
       "      <td>1.0</td>\n",
       "      <td>1.0</td>\n",
       "      <td>0.0</td>\n",
       "      <td>0.0</td>\n",
       "      <td>0.0</td>\n",
       "      <td>0.0</td>\n",
       "      <td>0.0</td>\n",
       "      <td>0.0</td>\n",
       "      <td>0.0</td>\n",
       "      <td>0.0</td>\n",
       "      <td>0.0</td>\n",
       "      <td>0.0</td>\n",
       "      <td>0.0</td>\n",
       "      <td>1.0</td>\n",
       "    </tr>\n",
       "  </tbody>\n",
       "</table>\n",
       "<p>5821 rows × 16 columns</p>\n",
       "</div>"
      ],
      "text/plain": [
       "      correct  cb_type1  cb_type2  ncb  pallet__bear  pallet__bluey2  \\\n",
       "0         1.0       0.0       0.0  1.0           1.0             0.0   \n",
       "1         1.0       0.0       0.0  1.0           1.0             0.0   \n",
       "2         1.0       0.0       0.0  1.0           1.0             0.0   \n",
       "3         1.0       0.0       0.0  1.0           1.0             0.0   \n",
       "4         0.0       0.0       0.0  1.0           1.0             0.0   \n",
       "...       ...       ...       ...  ...           ...             ...   \n",
       "5816      1.0       0.0       1.0  1.0           0.0             0.0   \n",
       "5817      1.0       0.0       1.0  1.0           0.0             0.0   \n",
       "5818      1.0       0.0       1.0  1.0           0.0             0.0   \n",
       "5819      1.0       0.0       1.0  1.0           0.0             0.0   \n",
       "5820      1.0       0.0       1.0  1.0           0.0             0.0   \n",
       "\n",
       "      pallet__camo2  pallet__greys  pallet__inverse_ring  pallet__orn_grn  \\\n",
       "0               0.0            0.0                   0.0              0.0   \n",
       "1               0.0            0.0                   0.0              0.0   \n",
       "2               0.0            0.0                   0.0              0.0   \n",
       "3               0.0            0.0                   0.0              0.0   \n",
       "4               0.0            0.0                   0.0              0.0   \n",
       "...             ...            ...                   ...              ...   \n",
       "5816            0.0            0.0                   0.0              0.0   \n",
       "5817            0.0            0.0                   0.0              0.0   \n",
       "5818            0.0            0.0                   0.0              0.0   \n",
       "5819            0.0            0.0                   0.0              0.0   \n",
       "5820            0.0            0.0                   0.0              0.0   \n",
       "\n",
       "      pallet__pinks  pallet__reversed_ring  pallet__ring  pallet__standard_1  \\\n",
       "0               0.0                    0.0           0.0                 0.0   \n",
       "1               0.0                    0.0           0.0                 0.0   \n",
       "2               0.0                    0.0           0.0                 0.0   \n",
       "3               0.0                    0.0           0.0                 0.0   \n",
       "4               0.0                    0.0           0.0                 0.0   \n",
       "...             ...                    ...           ...                 ...   \n",
       "5816            0.0                    0.0           0.0                 0.0   \n",
       "5817            0.0                    0.0           0.0                 0.0   \n",
       "5818            0.0                    0.0           0.0                 0.0   \n",
       "5819            0.0                    0.0           0.0                 0.0   \n",
       "5820            0.0                    0.0           0.0                 0.0   \n",
       "\n",
       "      pallet__standard_2  pallet__standard_3  \n",
       "0                    0.0                 0.0  \n",
       "1                    0.0                 0.0  \n",
       "2                    0.0                 0.0  \n",
       "3                    0.0                 0.0  \n",
       "4                    0.0                 0.0  \n",
       "...                  ...                 ...  \n",
       "5816                 0.0                 1.0  \n",
       "5817                 0.0                 1.0  \n",
       "5818                 0.0                 1.0  \n",
       "5819                 0.0                 1.0  \n",
       "5820                 0.0                 1.0  \n",
       "\n",
       "[5821 rows x 16 columns]"
      ]
     },
     "execution_count": 11,
     "metadata": {},
     "output_type": "execute_result"
    }
   ],
   "source": [
    "def scale_numerical(data,scaler):\n",
    "    features = data.select_dtypes(exclude=['object']).columns # list of colnames to include in transform\n",
    "    if scaler == 'ss':\n",
    "        scaled_features = pd.DataFrame(StandardScaler().fit_transform(data[features]),columns=data.columns) # applies the Standard scaler\n",
    "    else:\n",
    "        scaled_features = pd.DataFrame(MinMaxScaler().fit_transform(data[features]),columns=data.columns) # applies the MinMaxScaler scale\n",
    "    \n",
    "    return scaled_features\n",
    "\n",
    "scale_numerical(X,'mm') # just to test."
   ]
  },
  {
   "cell_type": "markdown",
   "metadata": {},
   "source": [
    "# Classisification\n",
    "This is mostly experimental as the best model/process for classifying users is developed."
   ]
  },
  {
   "cell_type": "markdown",
   "metadata": {},
   "source": [
    "### Model Evaluation Function"
   ]
  },
  {
   "cell_type": "code",
   "execution_count": 12,
   "metadata": {},
   "outputs": [],
   "source": [
    "# Evaluate Models\n",
    "def model_evaluate(model):\n",
    "    X_train, X_test, y_train, y_test = train_test_split(X,y, random_state=42, test_size=0.15)\n",
    "    \n",
    "    m = model\n",
    "    # Fit Model\n",
    "    m.fit(X_train, y_train)\n",
    "    \n",
    "    # Predict\n",
    "    y_pred = m.predict(X_test)\n",
    "    \n",
    "    # Scores\n",
    "    score = cross_val_score(m, X, y, cv = 5) #cross validation of 5.\n",
    "    score_test = accuracy_score(y_test, y_pred)\n",
    "    \n",
    "    #Results\n",
    "    print(f\"{(y_test != y_pred).sum()}/{X_test.shape[0]} points mislabeled\")\n",
    "    print(f\"Cross Val Scores: {score}\")\n",
    "    print('Score Average: %.3f' %score_test)\n",
    "    print('baseline: %.3f' %baseline)\n",
    "    print(\"Accuracy: %0.2f (+/- %0.2f)\" % (score.mean(), score.std() * 2))\n",
    "    print('-'*55)\n",
    "    print(classification_report(y_test, y_pred,zero_division=1))\n",
    "    return "
   ]
  },
  {
   "cell_type": "markdown",
   "metadata": {},
   "source": [
    "### LogisticRegression"
   ]
  },
  {
   "cell_type": "code",
   "execution_count": 13,
   "metadata": {},
   "outputs": [
    {
     "name": "stdout",
     "output_type": "stream",
     "text": [
      "188/874 points mislabeled\n",
      "Cross Val Scores: [0.81201717 0.81271478 0.60137457 0.81185567 0.81185567]\n",
      "Score Average: 0.785\n",
      "baseline: 0.812\n",
      "Accuracy: 0.77 (+/- 0.17)\n",
      "-------------------------------------------------------\n",
      "              precision    recall  f1-score   support\n",
      "\n",
      "           0       0.78      1.00      0.88       686\n",
      "           1       1.00      0.00      0.00        76\n",
      "           2       1.00      0.00      0.00        38\n",
      "           3       1.00      0.00      0.00        74\n",
      "\n",
      "    accuracy                           0.78       874\n",
      "   macro avg       0.95      0.25      0.22       874\n",
      "weighted avg       0.83      0.78      0.69       874\n",
      "\n"
     ]
    }
   ],
   "source": [
    "from sklearn.linear_model import LogisticRegression\n",
    "m = model_evaluate(LogisticRegression(max_iter=300))\n",
    "lg = m"
   ]
  },
  {
   "cell_type": "markdown",
   "metadata": {},
   "source": [
    "### Naive Bayes"
   ]
  },
  {
   "cell_type": "code",
   "execution_count": 14,
   "metadata": {},
   "outputs": [
    {
     "name": "stdout",
     "output_type": "stream",
     "text": [
      "188/874 points mislabeled\n",
      "Cross Val Scores: [0.23433476 0.51632302 0.18298969 0.48109966 0.26116838]\n",
      "Score Average: 0.785\n",
      "baseline: 0.812\n",
      "Accuracy: 0.34 (+/- 0.27)\n",
      "-------------------------------------------------------\n",
      "              precision    recall  f1-score   support\n",
      "\n",
      "           0       0.78      1.00      0.88       686\n",
      "           1       1.00      0.00      0.00        76\n",
      "           2       1.00      0.00      0.00        38\n",
      "           3       1.00      0.00      0.00        74\n",
      "\n",
      "    accuracy                           0.78       874\n",
      "   macro avg       0.95      0.25      0.22       874\n",
      "weighted avg       0.83      0.78      0.69       874\n",
      "\n"
     ]
    }
   ],
   "source": [
    "from sklearn.naive_bayes import BernoulliNB\n",
    "m = model_evaluate(BernoulliNB())\n",
    "nb = m"
   ]
  },
  {
   "cell_type": "markdown",
   "metadata": {},
   "source": [
    "### Support Vector Classifier"
   ]
  },
  {
   "cell_type": "code",
   "execution_count": 15,
   "metadata": {},
   "outputs": [
    {
     "name": "stdout",
     "output_type": "stream",
     "text": [
      "188/874 points mislabeled\n",
      "Cross Val Scores: [0.81201717 0.81271478 0.60137457 0.79553265 0.81185567]\n",
      "Score Average: 0.785\n",
      "baseline: 0.812\n",
      "Accuracy: 0.77 (+/- 0.17)\n",
      "-------------------------------------------------------\n",
      "              precision    recall  f1-score   support\n",
      "\n",
      "           0       0.78      1.00      0.88       686\n",
      "           1       1.00      0.00      0.00        76\n",
      "           2       1.00      0.00      0.00        38\n",
      "           3       1.00      0.00      0.00        74\n",
      "\n",
      "    accuracy                           0.78       874\n",
      "   macro avg       0.95      0.25      0.22       874\n",
      "weighted avg       0.83      0.78      0.69       874\n",
      "\n"
     ]
    }
   ],
   "source": [
    "from sklearn.svm import SVC\n",
    "m = model_evaluate(SVC(C=1,kernel='rbf',degree=4))\n",
    "svc = m"
   ]
  },
  {
   "cell_type": "markdown",
   "metadata": {},
   "source": [
    "### KNN Classifier"
   ]
  },
  {
   "cell_type": "code",
   "execution_count": 16,
   "metadata": {},
   "outputs": [
    {
     "name": "stdout",
     "output_type": "stream",
     "text": [
      "192/874 points mislabeled\n",
      "Cross Val Scores: [0.73819742 0.81271478 0.43041237 0.73797251 0.81185567]\n",
      "Score Average: 0.780\n",
      "baseline: 0.812\n",
      "Accuracy: 0.71 (+/- 0.28)\n",
      "-------------------------------------------------------\n",
      "              precision    recall  f1-score   support\n",
      "\n",
      "           0       0.79      0.99      0.88       686\n",
      "           1       1.00      0.00      0.00        76\n",
      "           2       0.20      0.05      0.08        38\n",
      "           3       1.00      0.00      0.00        74\n",
      "\n",
      "    accuracy                           0.78       874\n",
      "   macro avg       0.75      0.26      0.24       874\n",
      "weighted avg       0.80      0.78      0.69       874\n",
      "\n"
     ]
    }
   ],
   "source": [
    "from sklearn.neighbors import KNeighborsClassifier\n",
    "m = model_evaluate(KNeighborsClassifier(n_neighbors=5))\n",
    "knn = m"
   ]
  },
  {
   "cell_type": "markdown",
   "metadata": {},
   "source": [
    "### Adaboost Classifier"
   ]
  },
  {
   "cell_type": "code",
   "execution_count": 17,
   "metadata": {},
   "outputs": [
    {
     "name": "stdout",
     "output_type": "stream",
     "text": [
      "188/874 points mislabeled\n",
      "Cross Val Scores: [0.81201717 0.81271478 0.48195876 0.81185567 0.81185567]\n",
      "Score Average: 0.785\n",
      "baseline: 0.812\n",
      "Accuracy: 0.75 (+/- 0.26)\n",
      "-------------------------------------------------------\n",
      "              precision    recall  f1-score   support\n",
      "\n",
      "           0       0.78      1.00      0.88       686\n",
      "           1       1.00      0.00      0.00        76\n",
      "           2       1.00      0.00      0.00        38\n",
      "           3       1.00      0.00      0.00        74\n",
      "\n",
      "    accuracy                           0.78       874\n",
      "   macro avg       0.95      0.25      0.22       874\n",
      "weighted avg       0.83      0.78      0.69       874\n",
      "\n"
     ]
    }
   ],
   "source": [
    "from sklearn.ensemble import AdaBoostClassifier\n",
    "m = model_evaluate(AdaBoostClassifier(n_estimators=100))\n",
    "abc = m"
   ]
  },
  {
   "cell_type": "markdown",
   "metadata": {},
   "source": [
    "### MPL Classifier"
   ]
  },
  {
   "cell_type": "code",
   "execution_count": 18,
   "metadata": {},
   "outputs": [
    {
     "name": "stdout",
     "output_type": "stream",
     "text": [
      "188/874 points mislabeled\n",
      "Cross Val Scores: [0.81201717 0.81271478 0.48195876 0.79553265 0.81185567]\n",
      "Score Average: 0.785\n",
      "baseline: 0.812\n",
      "Accuracy: 0.74 (+/- 0.26)\n",
      "-------------------------------------------------------\n",
      "              precision    recall  f1-score   support\n",
      "\n",
      "           0       0.78      1.00      0.88       686\n",
      "           1       1.00      0.00      0.00        76\n",
      "           2       1.00      0.00      0.00        38\n",
      "           3       1.00      0.00      0.00        74\n",
      "\n",
      "    accuracy                           0.78       874\n",
      "   macro avg       0.95      0.25      0.22       874\n",
      "weighted avg       0.83      0.78      0.69       874\n",
      "\n"
     ]
    }
   ],
   "source": [
    "from sklearn.neural_network import MLPClassifier\n",
    "m = model_evaluate(MLPClassifier(solver='lbfgs', hidden_layer_sizes=(20, ), max_iter=1000, random_state=42))"
   ]
  },
  {
   "cell_type": "markdown",
   "metadata": {},
   "source": [
    "### Random Forest Regressor"
   ]
  },
  {
   "cell_type": "code",
   "execution_count": 19,
   "metadata": {},
   "outputs": [
    {
     "name": "stdout",
     "output_type": "stream",
     "text": [
      "188/874 points mislabeled\n",
      "Cross Val Scores: [0.81201717 0.81271478 0.48195876 0.79553265 0.81185567]\n",
      "Score Average: 0.785\n",
      "baseline: 0.812\n",
      "Accuracy: 0.74 (+/- 0.26)\n",
      "-------------------------------------------------------\n",
      "              precision    recall  f1-score   support\n",
      "\n",
      "           0       0.78      1.00      0.88       686\n",
      "           1       1.00      0.00      0.00        76\n",
      "           2       1.00      0.00      0.00        38\n",
      "           3       1.00      0.00      0.00        74\n",
      "\n",
      "    accuracy                           0.78       874\n",
      "   macro avg       0.95      0.25      0.22       874\n",
      "weighted avg       0.83      0.78      0.69       874\n",
      "\n"
     ]
    }
   ],
   "source": [
    "from sklearn.ensemble import RandomForestClassifier\n",
    "m = model_evaluate(RandomForestClassifier(max_depth=100, random_state=42))"
   ]
  },
  {
   "cell_type": "code",
   "execution_count": 20,
   "metadata": {},
   "outputs": [
    {
     "data": {
      "text/html": [
       "<div>\n",
       "<style scoped>\n",
       "    .dataframe tbody tr th:only-of-type {\n",
       "        vertical-align: middle;\n",
       "    }\n",
       "\n",
       "    .dataframe tbody tr th {\n",
       "        vertical-align: top;\n",
       "    }\n",
       "\n",
       "    .dataframe thead th {\n",
       "        text-align: right;\n",
       "    }\n",
       "</style>\n",
       "<table border=\"1\" class=\"dataframe\">\n",
       "  <thead>\n",
       "    <tr style=\"text-align: right;\">\n",
       "      <th></th>\n",
       "      <th>correct</th>\n",
       "      <th>cb_type1</th>\n",
       "      <th>cb_type2</th>\n",
       "      <th>ncb</th>\n",
       "      <th>pallet__bear</th>\n",
       "      <th>pallet__bluey2</th>\n",
       "      <th>pallet__camo2</th>\n",
       "      <th>pallet__greys</th>\n",
       "      <th>pallet__inverse_ring</th>\n",
       "      <th>pallet__orn_grn</th>\n",
       "      <th>pallet__pinks</th>\n",
       "      <th>pallet__reversed_ring</th>\n",
       "      <th>pallet__ring</th>\n",
       "      <th>pallet__standard_1</th>\n",
       "      <th>pallet__standard_2</th>\n",
       "      <th>pallet__standard_3</th>\n",
       "    </tr>\n",
       "  </thead>\n",
       "  <tbody>\n",
       "    <tr>\n",
       "      <th>11</th>\n",
       "      <td>1</td>\n",
       "      <td>0</td>\n",
       "      <td>0</td>\n",
       "      <td>1</td>\n",
       "      <td>1</td>\n",
       "      <td>0</td>\n",
       "      <td>0</td>\n",
       "      <td>0</td>\n",
       "      <td>0</td>\n",
       "      <td>0</td>\n",
       "      <td>0</td>\n",
       "      <td>0</td>\n",
       "      <td>0</td>\n",
       "      <td>0</td>\n",
       "      <td>0</td>\n",
       "      <td>0</td>\n",
       "    </tr>\n",
       "  </tbody>\n",
       "</table>\n",
       "</div>"
      ],
      "text/plain": [
       "    correct  cb_type1  cb_type2  ncb  pallet__bear  pallet__bluey2  \\\n",
       "11        1         0         0    1             1               0   \n",
       "\n",
       "    pallet__camo2  pallet__greys  pallet__inverse_ring  pallet__orn_grn  \\\n",
       "11              0              0                     0                0   \n",
       "\n",
       "    pallet__pinks  pallet__reversed_ring  pallet__ring  pallet__standard_1  \\\n",
       "11              0                      0             0                   0   \n",
       "\n",
       "    pallet__standard_2  pallet__standard_3  \n",
       "11                   0                   0  "
      ]
     },
     "execution_count": 20,
     "metadata": {},
     "output_type": "execute_result"
    }
   ],
   "source": [
    "import random\n",
    "test = random.randint(X.index.min(), X.index.max())\n",
    "predict = X.iloc[[11]]\n",
    "predict"
   ]
  },
  {
   "cell_type": "code",
   "execution_count": 21,
   "metadata": {},
   "outputs": [
    {
     "name": "stdout",
     "output_type": "stream",
     "text": [
      "0\n"
     ]
    }
   ],
   "source": [
    "rfc = RandomForestClassifier(max_depth=100, random_state=42)\n",
    "# Fit Model\n",
    "rfc.fit(X,y)\n",
    "# Predict\n",
    "[y_pred] = rfc.predict(predict)\n",
    "print(y_pred)"
   ]
  },
  {
   "cell_type": "code",
   "execution_count": null,
   "metadata": {},
   "outputs": [],
   "source": []
  },
  {
   "cell_type": "markdown",
   "metadata": {},
   "source": [
    "## Rebuild X & Apply Labels"
   ]
  },
  {
   "cell_type": "code",
   "execution_count": 22,
   "metadata": {},
   "outputs": [],
   "source": [
    "X = uf.drop(['user','recorded_result','mask_image','datetime','random_spread','pallet_values','pallet_used','ishihara_list','COLORS_ON','COLORS_OFF','cluster_classification'],axis=1)\n",
    "X = pd.concat([X,pallet_dummies],axis=1)"
   ]
  },
  {
   "cell_type": "code",
   "execution_count": 23,
   "metadata": {},
   "outputs": [],
   "source": [
    "# Evaluate Models\n",
    "def predict_labels(model):\n",
    "    m = model\n",
    "    m.fit(X,y)\n",
    "    y_pred = m.predict(X)\n",
    "    return y_pred"
   ]
  },
  {
   "cell_type": "code",
   "execution_count": 24,
   "metadata": {},
   "outputs": [
    {
     "name": "stdout",
     "output_type": "stream",
     "text": [
      "AdaBoostClassifier returned the following classifications:\n",
      "0    5821\n",
      "Name: AdaBoostClassifier, dtype: int64\n",
      "\n",
      "\n",
      "Naive Bayes Classifier returned the following classifications:\n",
      "0    5821\n",
      "Name: BernoulliNB, dtype: int64\n",
      "\n",
      "\n",
      "SVC Classifier returned the following classifications:\n",
      "0    5821\n",
      "Name: SVC, dtype: int64\n",
      "\n",
      "\n",
      "KNN Classifier returned the following classifications:\n",
      "0    5821\n",
      "Name: KNN, dtype: int64\n",
      "\n",
      "\n",
      "RF Classifier returned the following classifications:\n",
      "0    5821\n",
      "Name: RFC, dtype: int64\n",
      "\n",
      "\n"
     ]
    }
   ],
   "source": [
    "predict_labels(LogisticRegression(max_iter=300))\n",
    "uf['LogisticRegressor'] = y_pred\n",
    "\n",
    "predict_labels(AdaBoostClassifier(n_estimators=100))\n",
    "uf['AdaBoostClassifier'] = y_pred\n",
    "\n",
    "predict_labels(BernoulliNB())\n",
    "uf['BernoulliNB'] = y_pred\n",
    "\n",
    "predict_labels(SVC(C=1,kernel='rbf',degree=4))\n",
    "uf['SVC'] = y_pred\n",
    "\n",
    "predict_labels(KNeighborsClassifier(n_neighbors=5))\n",
    "uf['KNN'] = y_pred\n",
    "\n",
    "predict_labels(RandomForestClassifier(max_depth=100, random_state=42))\n",
    "uf['RFC'] = y_pred\n",
    "\n",
    "print('AdaBoostClassifier returned the following classifications:')\n",
    "print(uf['AdaBoostClassifier'].value_counts())\n",
    "print('\\n')\n",
    "print('Naive Bayes Classifier returned the following classifications:')\n",
    "print(uf['BernoulliNB'].value_counts())\n",
    "print('\\n')\n",
    "print('SVC Classifier returned the following classifications:')\n",
    "print(uf['SVC'].value_counts())\n",
    "print('\\n')\n",
    "print('KNN Classifier returned the following classifications:')\n",
    "print(uf['KNN'].value_counts())\n",
    "print('\\n')\n",
    "print('RF Classifier returned the following classifications:')\n",
    "print(uf['RFC'].value_counts())\n",
    "print('\\n')"
   ]
  },
  {
   "cell_type": "code",
   "execution_count": null,
   "metadata": {},
   "outputs": [],
   "source": []
  },
  {
   "cell_type": "code",
   "execution_count": 25,
   "metadata": {},
   "outputs": [
    {
     "name": "stdout",
     "output_type": "stream",
     "text": [
      "for user: unknown_1\n",
      "cluster_classification: \t[0]\n",
      "AdaBoostClassifier:\t\t[0]\n",
      "BernoulliNB: \t\t\t[0]\n",
      "SVC: \t\t\t\t[0]\n",
      "------------------------------\n",
      "for user: male_ncb_2\n",
      "cluster_classification: \t[0]\n",
      "AdaBoostClassifier:\t\t[0]\n",
      "BernoulliNB: \t\t\t[0]\n",
      "SVC: \t\t\t\t[0]\n",
      "------------------------------\n",
      "for user: colourblind_type1_3\n",
      "cluster_classification: \t[1]\n",
      "AdaBoostClassifier:\t\t[0]\n",
      "BernoulliNB: \t\t\t[0]\n",
      "SVC: \t\t\t\t[0]\n",
      "------------------------------\n",
      "for user: unknown_4\n",
      "cluster_classification: \t[0]\n",
      "AdaBoostClassifier:\t\t[0]\n",
      "BernoulliNB: \t\t\t[0]\n",
      "SVC: \t\t\t\t[0]\n",
      "------------------------------\n",
      "for user: unknown_5\n",
      "cluster_classification: \t[0]\n",
      "AdaBoostClassifier:\t\t[0]\n",
      "BernoulliNB: \t\t\t[0]\n",
      "SVC: \t\t\t\t[0]\n",
      "------------------------------\n",
      "for user: unknown_6\n",
      "cluster_classification: \t[0]\n",
      "AdaBoostClassifier:\t\t[0]\n",
      "BernoulliNB: \t\t\t[0]\n",
      "SVC: \t\t\t\t[0]\n",
      "------------------------------\n",
      "for user: unknown_7\n",
      "cluster_classification: \t[0]\n",
      "AdaBoostClassifier:\t\t[0]\n",
      "BernoulliNB: \t\t\t[0]\n",
      "SVC: \t\t\t\t[0]\n",
      "------------------------------\n",
      "for user: male_8\n",
      "cluster_classification: \t[0]\n",
      "AdaBoostClassifier:\t\t[0]\n",
      "BernoulliNB: \t\t\t[0]\n",
      "SVC: \t\t\t\t[0]\n",
      "------------------------------\n",
      "for user: male_9\n",
      "cluster_classification: \t[0]\n",
      "AdaBoostClassifier:\t\t[0]\n",
      "BernoulliNB: \t\t\t[0]\n",
      "SVC: \t\t\t\t[0]\n",
      "------------------------------\n",
      "for user: male_ncb_10\n",
      "cluster_classification: \t[2]\n",
      "AdaBoostClassifier:\t\t[0]\n",
      "BernoulliNB: \t\t\t[0]\n",
      "SVC: \t\t\t\t[0]\n",
      "------------------------------\n",
      "for user: colourblind_type2_11\n",
      "cluster_classification: \t[3]\n",
      "AdaBoostClassifier:\t\t[0]\n",
      "BernoulliNB: \t\t\t[0]\n",
      "SVC: \t\t\t\t[0]\n",
      "------------------------------\n",
      "for user: male_12\n",
      "cluster_classification: \t[0]\n",
      "AdaBoostClassifier:\t\t[0]\n",
      "BernoulliNB: \t\t\t[0]\n",
      "SVC: \t\t\t\t[0]\n",
      "------------------------------\n",
      "for user: male_13\n",
      "cluster_classification: \t[0]\n",
      "AdaBoostClassifier:\t\t[0]\n",
      "BernoulliNB: \t\t\t[0]\n",
      "SVC: \t\t\t\t[0]\n",
      "------------------------------\n",
      "for user: unknown_14\n",
      "cluster_classification: \t[0]\n",
      "AdaBoostClassifier:\t\t[0]\n",
      "BernoulliNB: \t\t\t[0]\n",
      "SVC: \t\t\t\t[0]\n",
      "------------------------------\n",
      "for user: unknown_15\n",
      "cluster_classification: \t[0]\n",
      "AdaBoostClassifier:\t\t[0]\n",
      "BernoulliNB: \t\t\t[0]\n",
      "SVC: \t\t\t\t[0]\n",
      "------------------------------\n",
      "for user: female_16\n",
      "cluster_classification: \t[0]\n",
      "AdaBoostClassifier:\t\t[0]\n",
      "BernoulliNB: \t\t\t[0]\n",
      "SVC: \t\t\t\t[0]\n",
      "------------------------------\n",
      "for user: female_17\n",
      "cluster_classification: \t[0]\n",
      "AdaBoostClassifier:\t\t[0]\n",
      "BernoulliNB: \t\t\t[0]\n",
      "SVC: \t\t\t\t[0]\n",
      "------------------------------\n",
      "for user: unkown_18\n",
      "cluster_classification: \t[0]\n",
      "AdaBoostClassifier:\t\t[0]\n",
      "BernoulliNB: \t\t\t[0]\n",
      "SVC: \t\t\t\t[0]\n",
      "------------------------------\n",
      "for user: unkown_19\n",
      "cluster_classification: \t[0]\n",
      "AdaBoostClassifier:\t\t[0]\n",
      "BernoulliNB: \t\t\t[0]\n",
      "SVC: \t\t\t\t[0]\n",
      "------------------------------\n",
      "for user: male_20\n",
      "cluster_classification: \t[0]\n",
      "AdaBoostClassifier:\t\t[0]\n",
      "BernoulliNB: \t\t\t[0]\n",
      "SVC: \t\t\t\t[0]\n",
      "------------------------------\n",
      "for user: unknown_21\n",
      "cluster_classification: \t[0]\n",
      "AdaBoostClassifier:\t\t[0]\n",
      "BernoulliNB: \t\t\t[0]\n",
      "SVC: \t\t\t\t[0]\n",
      "------------------------------\n",
      "for user: unknown_22\n",
      "cluster_classification: \t[0]\n",
      "AdaBoostClassifier:\t\t[0]\n",
      "BernoulliNB: \t\t\t[0]\n",
      "SVC: \t\t\t\t[0]\n",
      "------------------------------\n",
      "for user: unknown_23\n",
      "cluster_classification: \t[0]\n",
      "AdaBoostClassifier:\t\t[0]\n",
      "BernoulliNB: \t\t\t[0]\n",
      "SVC: \t\t\t\t[0]\n",
      "------------------------------\n",
      "for user: colourblind_type2_24\n",
      "cluster_classification: \t[3]\n",
      "AdaBoostClassifier:\t\t[0]\n",
      "BernoulliNB: \t\t\t[0]\n",
      "SVC: \t\t\t\t[0]\n",
      "------------------------------\n",
      "for user: male_ncb_25\n",
      "cluster_classification: \t[0]\n",
      "AdaBoostClassifier:\t\t[0]\n",
      "BernoulliNB: \t\t\t[0]\n",
      "SVC: \t\t\t\t[0]\n",
      "------------------------------\n",
      "for user: female_ncb_26\n",
      "cluster_classification: \t[0]\n",
      "AdaBoostClassifier:\t\t[0]\n",
      "BernoulliNB: \t\t\t[0]\n",
      "SVC: \t\t\t\t[0]\n",
      "------------------------------\n",
      "for user: male_ncb_27\n",
      "cluster_classification: \t[0]\n",
      "AdaBoostClassifier:\t\t[0]\n",
      "BernoulliNB: \t\t\t[0]\n",
      "SVC: \t\t\t\t[0]\n",
      "------------------------------\n",
      "for user: colourblind_type1_28\n",
      "cluster_classification: \t[1]\n",
      "AdaBoostClassifier:\t\t[0]\n",
      "BernoulliNB: \t\t\t[0]\n",
      "SVC: \t\t\t\t[0]\n",
      "------------------------------\n",
      "for user: female_ncb_29\n",
      "cluster_classification: \t[0]\n",
      "AdaBoostClassifier:\t\t[0]\n",
      "BernoulliNB: \t\t\t[0]\n",
      "SVC: \t\t\t\t[0]\n",
      "------------------------------\n",
      "for user: unknown_30\n",
      "cluster_classification: \t[0]\n",
      "AdaBoostClassifier:\t\t[0]\n",
      "BernoulliNB: \t\t\t[0]\n",
      "SVC: \t\t\t\t[0]\n",
      "------------------------------\n"
     ]
    }
   ],
   "source": [
    "for user in uf['user'].unique():\n",
    "    evaluation = uf[uf['user'] == user]\n",
    "    print(f'for user: {str(user)}')\n",
    "    print(f\"cluster_classification: \t{evaluation['cluster_classification'].unique()}\")\n",
    "    print(f\"AdaBoostClassifier:\t\t{evaluation['AdaBoostClassifier'].unique()}\")\n",
    "    print(f\"BernoulliNB: \t\t\t{evaluation['BernoulliNB'].unique()}\")\n",
    "    print(f\"SVC: \t\t\t\t{evaluation['SVC'].unique()}\")\n",
    "    print('---'*10)\n"
   ]
  },
  {
   "cell_type": "code",
   "execution_count": null,
   "metadata": {},
   "outputs": [],
   "source": []
  },
  {
   "cell_type": "markdown",
   "metadata": {},
   "source": [
    "## Save To File"
   ]
  },
  {
   "cell_type": "code",
   "execution_count": 26,
   "metadata": {},
   "outputs": [],
   "source": [
    "uf.to_csv('./CSV/colour_data_classified.csv', header=True,index=False)"
   ]
  },
  {
   "cell_type": "markdown",
   "metadata": {},
   "source": [
    "# fin Part 1\n",
    "# Commence Part 2"
   ]
  },
  {
   "cell_type": "code",
   "execution_count": 185,
   "metadata": {},
   "outputs": [],
   "source": [
    "import torch\n",
    "import torch.nn as nn\n",
    "import torch.nn.functional as F\n",
    "import numpy as np\n",
    "import pandas as pd\n",
    "import matplotlib.pyplot as plt"
   ]
  },
  {
   "cell_type": "code",
   "execution_count": 162,
   "metadata": {},
   "outputs": [],
   "source": [
    "class Model(nn.Module): # model class object inherited from nn.Module\n",
    "    \n",
    "    def __init__(self, in_features=55, h1=80, h2=80, out_features=4):\n",
    "        # how many layers?\n",
    "        super().__init__()  # this instanciates the Module class we're inheriting from.\n",
    "        \n",
    "        # Input Layer (4 features) --> h1 (hidden layer) N --> h2 (hidden layer) N --> output (3 classes) - of flowers in this case.\n",
    "        self.fc1 = nn.Linear(in_features, h1) # fully conected (layer 1) i/o\n",
    "        self.fc2 = nn.Linear(h1,h2)  # i/o\n",
    "        self.out = nn.Linear(h2, out_features) # i/o\n",
    "    \n",
    "    def forward(self, x):\n",
    "        x = F.relu(self.fc1(x))  # relu = rectified linear unit)\n",
    "        x = F.relu(self.fc2(x))\n",
    "        x = self.out(x) \n",
    "        \n",
    "        # we're passing the values through the activation in and out.\n",
    "        # this is forward propigation.\n",
    "        \n",
    "        return x"
   ]
  },
  {
   "cell_type": "code",
   "execution_count": 163,
   "metadata": {},
   "outputs": [],
   "source": [
    "torch.manual_seed(32)\n",
    "model = Model()"
   ]
  },
  {
   "cell_type": "code",
   "execution_count": 164,
   "metadata": {},
   "outputs": [],
   "source": [
    "# Data file produced by tests.\n",
    "tdf = pd.read_csv('./CSV/colour_data_clustered.csv')"
   ]
  },
  {
   "cell_type": "code",
   "execution_count": 165,
   "metadata": {},
   "outputs": [
    {
     "data": {
      "text/html": [
       "<div>\n",
       "<style scoped>\n",
       "    .dataframe tbody tr th:only-of-type {\n",
       "        vertical-align: middle;\n",
       "    }\n",
       "\n",
       "    .dataframe tbody tr th {\n",
       "        vertical-align: top;\n",
       "    }\n",
       "\n",
       "    .dataframe thead th {\n",
       "        text-align: right;\n",
       "    }\n",
       "</style>\n",
       "<table border=\"1\" class=\"dataframe\">\n",
       "  <thead>\n",
       "    <tr style=\"text-align: right;\">\n",
       "      <th></th>\n",
       "      <th>user</th>\n",
       "      <th>correct</th>\n",
       "      <th>recorded_result</th>\n",
       "      <th>mask_image</th>\n",
       "      <th>cb_type1</th>\n",
       "      <th>cb_type2</th>\n",
       "      <th>ncb</th>\n",
       "      <th>cluster_classification</th>\n",
       "    </tr>\n",
       "  </thead>\n",
       "  <tbody>\n",
       "    <tr>\n",
       "      <th>0</th>\n",
       "      <td>unknown_1</td>\n",
       "      <td>1</td>\n",
       "      <td>5</td>\n",
       "      <td>5</td>\n",
       "      <td>0</td>\n",
       "      <td>0</td>\n",
       "      <td>1</td>\n",
       "      <td>0</td>\n",
       "    </tr>\n",
       "    <tr>\n",
       "      <th>1</th>\n",
       "      <td>unknown_1</td>\n",
       "      <td>1</td>\n",
       "      <td>C</td>\n",
       "      <td>C</td>\n",
       "      <td>0</td>\n",
       "      <td>0</td>\n",
       "      <td>1</td>\n",
       "      <td>0</td>\n",
       "    </tr>\n",
       "    <tr>\n",
       "      <th>2</th>\n",
       "      <td>unknown_1</td>\n",
       "      <td>1</td>\n",
       "      <td>D</td>\n",
       "      <td>D</td>\n",
       "      <td>0</td>\n",
       "      <td>0</td>\n",
       "      <td>1</td>\n",
       "      <td>0</td>\n",
       "    </tr>\n",
       "    <tr>\n",
       "      <th>3</th>\n",
       "      <td>unknown_1</td>\n",
       "      <td>1</td>\n",
       "      <td>N</td>\n",
       "      <td>N</td>\n",
       "      <td>0</td>\n",
       "      <td>0</td>\n",
       "      <td>1</td>\n",
       "      <td>0</td>\n",
       "    </tr>\n",
       "    <tr>\n",
       "      <th>4</th>\n",
       "      <td>unknown_1</td>\n",
       "      <td>0</td>\n",
       "      <td>N</td>\n",
       "      <td>E</td>\n",
       "      <td>0</td>\n",
       "      <td>0</td>\n",
       "      <td>1</td>\n",
       "      <td>0</td>\n",
       "    </tr>\n",
       "  </tbody>\n",
       "</table>\n",
       "</div>"
      ],
      "text/plain": [
       "        user  correct recorded_result mask_image  cb_type1  cb_type2  ncb  \\\n",
       "0  unknown_1        1               5          5         0         0    1   \n",
       "1  unknown_1        1               C          C         0         0    1   \n",
       "2  unknown_1        1               D          D         0         0    1   \n",
       "3  unknown_1        1               N          N         0         0    1   \n",
       "4  unknown_1        0               N          E         0         0    1   \n",
       "\n",
       "   cluster_classification  \n",
       "0                       0  \n",
       "1                       0  \n",
       "2                       0  \n",
       "3                       0  \n",
       "4                       0  "
      ]
     },
     "execution_count": 165,
     "metadata": {},
     "output_type": "execute_result"
    }
   ],
   "source": [
    "tdf = tdf[['user', 'correct', 'recorded_result', 'mask_image', 'cb_type1', 'cb_type2','ncb', 'cluster_classification']]\n",
    "tdf.head()"
   ]
  },
  {
   "cell_type": "code",
   "execution_count": 166,
   "metadata": {},
   "outputs": [
    {
     "data": {
      "text/plain": [
       "(30, 4)"
      ]
     },
     "execution_count": 166,
     "metadata": {},
     "output_type": "execute_result"
    }
   ],
   "source": [
    "tdf.user.nunique(), tdf.cluster_classification.nunique()"
   ]
  },
  {
   "cell_type": "code",
   "execution_count": 167,
   "metadata": {},
   "outputs": [
    {
     "data": {
      "text/plain": [
       "5821"
      ]
     },
     "execution_count": 167,
     "metadata": {},
     "output_type": "execute_result"
    }
   ],
   "source": [
    "len(tdf)"
   ]
  },
  {
   "cell_type": "code",
   "execution_count": 168,
   "metadata": {},
   "outputs": [],
   "source": [
    "# OneHotEncode\n",
    "user_dummies = pd.get_dummies(tdf['user'], prefix='user_', drop_first=True)\n",
    "recorded_result_dummies = pd.get_dummies(tdf['recorded_result'], prefix='recorded_result_', drop_first=True)\n",
    "mask_image_dummies = pd.get_dummies(tdf['mask_image'], prefix='mask_image_', drop_first=True)\n",
    "\n",
    "tdf = pd.concat([tdf,user_dummies,recorded_result_dummies,mask_image_dummies], axis=1)\n"
   ]
  },
  {
   "cell_type": "code",
   "execution_count": 169,
   "metadata": {},
   "outputs": [],
   "source": [
    "tdf = tdf.drop(['user','recorded_result','mask_image'], axis=1, inplace=False)"
   ]
  },
  {
   "cell_type": "code",
   "execution_count": 170,
   "metadata": {},
   "outputs": [
    {
     "name": "stdout",
     "output_type": "stream",
     "text": [
      "<class 'pandas.core.frame.DataFrame'>\n",
      "RangeIndex: 5821 entries, 0 to 5820\n",
      "Data columns (total 56 columns):\n",
      " #   Column                      Non-Null Count  Dtype\n",
      "---  ------                      --------------  -----\n",
      " 0   correct                     5821 non-null   int64\n",
      " 1   cb_type1                    5821 non-null   int64\n",
      " 2   cb_type2                    5821 non-null   int64\n",
      " 3   ncb                         5821 non-null   int64\n",
      " 4   cluster_classification      5821 non-null   int64\n",
      " 5   user__colourblind_type1_3   5821 non-null   uint8\n",
      " 6   user__colourblind_type2_11  5821 non-null   uint8\n",
      " 7   user__colourblind_type2_24  5821 non-null   uint8\n",
      " 8   user__female_16             5821 non-null   uint8\n",
      " 9   user__female_17             5821 non-null   uint8\n",
      " 10  user__female_ncb_26         5821 non-null   uint8\n",
      " 11  user__female_ncb_29         5821 non-null   uint8\n",
      " 12  user__male_12               5821 non-null   uint8\n",
      " 13  user__male_13               5821 non-null   uint8\n",
      " 14  user__male_20               5821 non-null   uint8\n",
      " 15  user__male_8                5821 non-null   uint8\n",
      " 16  user__male_9                5821 non-null   uint8\n",
      " 17  user__male_ncb_10           5821 non-null   uint8\n",
      " 18  user__male_ncb_2            5821 non-null   uint8\n",
      " 19  user__male_ncb_25           5821 non-null   uint8\n",
      " 20  user__male_ncb_27           5821 non-null   uint8\n",
      " 21  user__unknown_1             5821 non-null   uint8\n",
      " 22  user__unknown_14            5821 non-null   uint8\n",
      " 23  user__unknown_15            5821 non-null   uint8\n",
      " 24  user__unknown_21            5821 non-null   uint8\n",
      " 25  user__unknown_22            5821 non-null   uint8\n",
      " 26  user__unknown_23            5821 non-null   uint8\n",
      " 27  user__unknown_30            5821 non-null   uint8\n",
      " 28  user__unknown_4             5821 non-null   uint8\n",
      " 29  user__unknown_5             5821 non-null   uint8\n",
      " 30  user__unknown_6             5821 non-null   uint8\n",
      " 31  user__unknown_7             5821 non-null   uint8\n",
      " 32  user__unkown_18             5821 non-null   uint8\n",
      " 33  user__unkown_19             5821 non-null   uint8\n",
      " 34  recorded_result__2          5821 non-null   uint8\n",
      " 35  recorded_result__3          5821 non-null   uint8\n",
      " 36  recorded_result__4          5821 non-null   uint8\n",
      " 37  recorded_result__5          5821 non-null   uint8\n",
      " 38  recorded_result__8          5821 non-null   uint8\n",
      " 39  recorded_result__A          5821 non-null   uint8\n",
      " 40  recorded_result__B          5821 non-null   uint8\n",
      " 41  recorded_result__C          5821 non-null   uint8\n",
      " 42  recorded_result__D          5821 non-null   uint8\n",
      " 43  recorded_result__E          5821 non-null   uint8\n",
      " 44  recorded_result__N          5821 non-null   uint8\n",
      " 45  recorded_result__U          5821 non-null   uint8\n",
      " 46  mask_image__2               5821 non-null   uint8\n",
      " 47  mask_image__3               5821 non-null   uint8\n",
      " 48  mask_image__4               5821 non-null   uint8\n",
      " 49  mask_image__5               5821 non-null   uint8\n",
      " 50  mask_image__A               5821 non-null   uint8\n",
      " 51  mask_image__B               5821 non-null   uint8\n",
      " 52  mask_image__C               5821 non-null   uint8\n",
      " 53  mask_image__D               5821 non-null   uint8\n",
      " 54  mask_image__E               5821 non-null   uint8\n",
      " 55  mask_image__N               5821 non-null   uint8\n",
      "dtypes: int64(5), uint8(51)\n",
      "memory usage: 517.4 KB\n"
     ]
    }
   ],
   "source": [
    "tdf.info()"
   ]
  },
  {
   "cell_type": "code",
   "execution_count": null,
   "metadata": {},
   "outputs": [],
   "source": []
  },
  {
   "cell_type": "code",
   "execution_count": 171,
   "metadata": {},
   "outputs": [
    {
     "data": {
      "text/plain": [
       "56"
      ]
     },
     "execution_count": 171,
     "metadata": {},
     "output_type": "execute_result"
    }
   ],
   "source": [
    "# We now need to adjust the number of features in our layers.\n",
    "len(tdf.columns)\n",
    "# this is the number of features."
   ]
  },
  {
   "cell_type": "code",
   "execution_count": 172,
   "metadata": {},
   "outputs": [],
   "source": [
    "X = tdf.drop('cluster_classification', axis=1)\n",
    "y = tdf['cluster_classification']"
   ]
  },
  {
   "cell_type": "code",
   "execution_count": 173,
   "metadata": {},
   "outputs": [
    {
     "data": {
      "text/plain": [
       "pandas.core.series.Series"
      ]
     },
     "execution_count": 173,
     "metadata": {},
     "output_type": "execute_result"
    }
   ],
   "source": [
    "type(y) # we need numpy arrays."
   ]
  },
  {
   "cell_type": "code",
   "execution_count": 174,
   "metadata": {},
   "outputs": [],
   "source": [
    "X = X.values\n",
    "y = y.values"
   ]
  },
  {
   "cell_type": "code",
   "execution_count": 175,
   "metadata": {},
   "outputs": [
    {
     "data": {
      "text/plain": [
       "numpy.ndarray"
      ]
     },
     "execution_count": 175,
     "metadata": {},
     "output_type": "execute_result"
    }
   ],
   "source": [
    "type(y)"
   ]
  },
  {
   "cell_type": "code",
   "execution_count": 176,
   "metadata": {},
   "outputs": [],
   "source": [
    "from sklearn.model_selection import train_test_split"
   ]
  },
  {
   "cell_type": "code",
   "execution_count": 177,
   "metadata": {},
   "outputs": [],
   "source": [
    "X_train, X_test, y_train, y_test = train_test_split(X, y, test_size=0.2, random_state=33)"
   ]
  },
  {
   "cell_type": "code",
   "execution_count": 178,
   "metadata": {},
   "outputs": [],
   "source": [
    "# Convert to FloatTensors\n",
    "X_train = torch.FloatTensor(X_train)\n",
    "X_test = torch.FloatTensor(X_test)"
   ]
  },
  {
   "cell_type": "code",
   "execution_count": 179,
   "metadata": {},
   "outputs": [],
   "source": [
    "y_train = torch.LongTensor(y_train) # Long\n",
    "y_test = torch.LongTensor(y_test)"
   ]
  },
  {
   "cell_type": "code",
   "execution_count": 180,
   "metadata": {},
   "outputs": [],
   "source": [
    "# \"criterion on which we are evaluating our networks performance\"\n",
    "# CrossEntropyLoss - \"dataset is a multi-class cross entropy problem\".\n",
    "criterion = nn.CrossEntropyLoss() # Comparing our X_train to X_test"
   ]
  },
  {
   "cell_type": "code",
   "execution_count": 181,
   "metadata": {},
   "outputs": [],
   "source": [
    "# notice we pass our model function object into the optimiser!\n",
    "# Adam optimiser - one of the most efficient optimisers.\n",
    "optimiser = torch.optim.Adam(model.parameters(), lr=0.01)  # start here and change if after 10 epochs error is not reducing."
   ]
  },
  {
   "cell_type": "code",
   "execution_count": 182,
   "metadata": {},
   "outputs": [
    {
     "data": {
      "text/plain": [
       "<bound method Module.parameters of Model(\n",
       "  (fc1): Linear(in_features=55, out_features=80, bias=True)\n",
       "  (fc2): Linear(in_features=80, out_features=80, bias=True)\n",
       "  (out): Linear(in_features=80, out_features=4, bias=True)\n",
       ")>"
      ]
     },
     "execution_count": 182,
     "metadata": {},
     "output_type": "execute_result"
    }
   ],
   "source": [
    "model.parameters # from our class object"
   ]
  },
  {
   "cell_type": "markdown",
   "metadata": {},
   "source": [
    "#### How Many Epochs?\n",
    "- An epoch is 1 run through all the training data"
   ]
  },
  {
   "cell_type": "code",
   "execution_count": 183,
   "metadata": {},
   "outputs": [
    {
     "name": "stdout",
     "output_type": "stream",
     "text": [
      "Epoch 0 and loss is: 1.396665334701538\n",
      "Epoch 10 and loss is: 0.48063963651657104\n",
      "Epoch 20 and loss is: 0.3123609125614166\n",
      "Epoch 30 and loss is: 0.2445378303527832\n",
      "Epoch 40 and loss is: 0.16790921986103058\n",
      "Epoch 50 and loss is: 0.09741850197315216\n",
      "Epoch 60 and loss is: 0.0210780818015337\n",
      "Epoch 70 and loss is: 0.0016890433616936207\n",
      "Epoch 80 and loss is: 0.00039347243728116155\n",
      "Epoch 90 and loss is: 0.00017870408191811293\n"
     ]
    }
   ],
   "source": [
    "epochs = 100\n",
    "losses = []\n",
    "\n",
    "for i in range(epochs):\n",
    "    \n",
    "    # FORWARDS and get a prediction\n",
    "    \n",
    "    y_pred = model.forward(X_train) # goes forward through all the layers.\n",
    "    \n",
    "    # Calculate loss/error\n",
    "    loss = criterion(y_pred, y_train)\n",
    "    \n",
    "    losses.append(loss) # keep track of loss.\n",
    "    \n",
    "    if i%10 == 0:\n",
    "        print(f'Epoch {i} and loss is: {loss}')\n",
    "              \n",
    "    # BACK PROPAGATION\n",
    "              \n",
    "    optimiser.zero_grad()\n",
    "    loss.backward()\n",
    "    optimiser.step()"
   ]
  },
  {
   "cell_type": "code",
   "execution_count": 186,
   "metadata": {},
   "outputs": [
    {
     "data": {
      "text/plain": [
       "Text(0.5, 0, 'Epoch')"
      ]
     },
     "execution_count": 186,
     "metadata": {},
     "output_type": "execute_result"
    },
    {
     "data": {
      "image/png": "[encoded data removed]",
      "text/plain": [
       "<Figure size 432x288 with 1 Axes>"
      ]
     },
     "metadata": {
      "needs_background": "light"
     },
     "output_type": "display_data"
    }
   ],
   "source": [
    "plt.plot(range(epochs),losses)\n",
    "plt.ylabel('Loss')\n",
    "plt.xlabel('Epoch')"
   ]
  },
  {
   "cell_type": "code",
   "execution_count": 187,
   "metadata": {},
   "outputs": [],
   "source": [
    "with torch.no_grad(): # this turns off grad - saves memory and improves efficency.\n",
    "    y_eval = model.forward(X_test)\n",
    "    loss = criterion(y_eval, y_test)"
   ]
  },
  {
   "cell_type": "code",
   "execution_count": 189,
   "metadata": {},
   "outputs": [
    {
     "data": {
      "text/plain": [
       "tensor(0.0001)"
      ]
     },
     "execution_count": 189,
     "metadata": {},
     "output_type": "execute_result"
    }
   ],
   "source": [
    "loss\n",
    "# Looks like our data is too simple.\n",
    "# Our test loss is tiny, meaning the score is almost perfect."
   ]
  },
  {
   "cell_type": "code",
   "execution_count": 198,
   "metadata": {},
   "outputs": [
    {
     "name": "stdout",
     "output_type": "stream",
     "text": [
      "\n",
      "1165 out of 1165 = 100.00% correct\n"
     ]
    }
   ],
   "source": [
    "#  Using Cross Entropy Loss followed by Correct Value.\n",
    "\n",
    "correct = 0\n",
    "with torch.no_grad():\n",
    "    for i,data in enumerate(X_test):\n",
    "        y_val = model.forward(data)\n",
    "#         print(f'{i+1:2}. {str(y_val):38}  {y_test[i]}')\n",
    "        \n",
    "        # add correct to total tally.\n",
    "        if y_val.argmax().item() == y_test[i]:\n",
    "            correct += 1\n",
    "            \n",
    "print(f'\\n{correct} out of {len(y_test)} = {100*correct/len(y_test):.2f}% correct')"
   ]
  },
  {
   "cell_type": "code",
   "execution_count": 193,
   "metadata": {},
   "outputs": [],
   "source": [
    "# Again, this suggests we need to improve our test mechanism."
   ]
  },
  {
   "cell_type": "code",
   "execution_count": 195,
   "metadata": {},
   "outputs": [],
   "source": [
    "torch.save(model.state_dict(), 'colourdata_classification_model.pt')"
   ]
  },
  {
   "cell_type": "code",
   "execution_count": 196,
   "metadata": {},
   "outputs": [
    {
     "data": {
      "text/plain": [
       "<All keys matched successfully>"
      ]
     },
     "execution_count": 196,
     "metadata": {},
     "output_type": "execute_result"
    }
   ],
   "source": [
    "model2 = Model()\n",
    "model2.load_state_dict(torch.load('colourdata_classification_model.pt'))"
   ]
  },
  {
   "cell_type": "code",
   "execution_count": 197,
   "metadata": {},
   "outputs": [
    {
     "data": {
      "text/plain": [
       "Model(\n",
       "  (fc1): Linear(in_features=55, out_features=80, bias=True)\n",
       "  (fc2): Linear(in_features=80, out_features=80, bias=True)\n",
       "  (out): Linear(in_features=80, out_features=4, bias=True)\n",
       ")"
      ]
     },
     "execution_count": 197,
     "metadata": {},
     "output_type": "execute_result"
    }
   ],
   "source": [
    "model2.eval()"
   ]
  },
  {
   "cell_type": "markdown",
   "metadata": {},
   "source": [
    "### Inference"
   ]
  },
  {
   "cell_type": "code",
   "execution_count": 244,
   "metadata": {},
   "outputs": [
    {
     "name": "stdout",
     "output_type": "stream",
     "text": [
      "tensor([[[ 11.3065,  -2.4360, -15.3265, -12.4988]]])\n",
      "Predicted user type: 0\n"
     ]
    }
   ],
   "source": [
    "random_row = tdf.drop('cluster_classification', axis=1)  # Take X and drop target\n",
    "random_row = random_row.sample(n=1)  # Select Random Row from X\n",
    "random_row = random_row.values  # Change into numpy array\n",
    "random_row = torch.FloatTensor(random_row)  # Convert that into a torch Float\n",
    "random_row = [t.numpy() for t in random_row]  # Convert items in list to numpy values\n",
    "inference_sample = torch.tensor([random_row]) # Convert into torch tensor ready for inference.\n",
    "\n",
    "with torch.no_grad():\n",
    "    print(model2(inference_sample)) # prints out a tensor\n",
    "    print(f'Predicted user type: {model2(inference_sample).argmax()}')"
   ]
  },
  {
   "cell_type": "code",
   "execution_count": null,
   "metadata": {},
   "outputs": [],
   "source": [
    "# Then I just need to add these together and I can derive a mean pr."
   ]
  },
  {
   "cell_type": "code",
   "execution_count": null,
   "metadata": {},
   "outputs": [],
   "source": [
    "# Consider cleaning with NP cats = np.stack([tdf[col].cat.codes.values for col in cat_cols], axis=1)b"
   ]
  },
  {
   "cell_type": "code",
   "execution_count": null,
   "metadata": {},
   "outputs": [],
   "source": []
  }
 ],
 "metadata": {
  "kernelspec": {
   "display_name": "Python 3.10.4 64-bit ('3.10.4')",
   "language": "python",
   "name": "python3"
  },
  "language_info": {
   "codemirror_mode": {
    "name": "ipython",
    "version": 3
   },
   "file_extension": ".py",
   "mimetype": "text/x-python",
   "name": "python",
   "nbconvert_exporter": "python",
   "pygments_lexer": "ipython3",
   "version": "3.10.4"
  },
  "vscode": {
   "interpreter": {
    "hash": "4d576d3452b8fcd3da72389b15d38a28d5b47c835a9725f9c1f006a0a28218a0"
   }
  }
 },
 "nbformat": 4,
 "nbformat_minor": 4
}
